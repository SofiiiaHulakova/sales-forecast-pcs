{
 "cells": [
  {
   "cell_type": "markdown",
   "metadata": {},
   "source": [
    "# Prophet Forecasting Model\n",
    "This notebook implements a forecasting model using the Prophet library. It includes data loading, preprocessing, model training, and forecasting for multiple SKUs, along with additional regressors."
   ]
  },
  {
   "cell_type": "code",
   "execution_count": 32,
   "metadata": {},
   "outputs": [
    {
     "name": "stdout",
     "output_type": "stream",
     "text": [
      "Defaulting to user installation because normal site-packages is not writeable\n",
      "Requirement already satisfied: pandas in /Users/sofymagar/Library/Python/3.9/lib/python/site-packages (2.2.3)\n",
      "Requirement already satisfied: numpy>=1.22.4 in /Users/sofymagar/Library/Python/3.9/lib/python/site-packages (from pandas) (2.0.2)\n",
      "Requirement already satisfied: python-dateutil>=2.8.2 in /Users/sofymagar/Library/Python/3.9/lib/python/site-packages (from pandas) (2.9.0.post0)\n",
      "Requirement already satisfied: pytz>=2020.1 in /Users/sofymagar/Library/Python/3.9/lib/python/site-packages (from pandas) (2025.1)\n",
      "Requirement already satisfied: tzdata>=2022.7 in /Users/sofymagar/Library/Python/3.9/lib/python/site-packages (from pandas) (2025.1)\n",
      "Requirement already satisfied: six>=1.5 in /Library/Developer/CommandLineTools/Library/Frameworks/Python3.framework/Versions/3.9/lib/python3.9/site-packages (from python-dateutil>=2.8.2->pandas) (1.15.0)\n",
      "Defaulting to user installation because normal site-packages is not writeable\n",
      "Requirement already satisfied: matplotlib in /Users/sofymagar/Library/Python/3.9/lib/python/site-packages (3.9.4)\n",
      "Requirement already satisfied: contourpy>=1.0.1 in /Users/sofymagar/Library/Python/3.9/lib/python/site-packages (from matplotlib) (1.3.0)\n",
      "Requirement already satisfied: cycler>=0.10 in /Users/sofymagar/Library/Python/3.9/lib/python/site-packages (from matplotlib) (0.12.1)\n",
      "Requirement already satisfied: fonttools>=4.22.0 in /Users/sofymagar/Library/Python/3.9/lib/python/site-packages (from matplotlib) (4.56.0)\n",
      "Requirement already satisfied: kiwisolver>=1.3.1 in /Users/sofymagar/Library/Python/3.9/lib/python/site-packages (from matplotlib) (1.4.7)\n",
      "Requirement already satisfied: numpy>=1.23 in /Users/sofymagar/Library/Python/3.9/lib/python/site-packages (from matplotlib) (2.0.2)\n",
      "Requirement already satisfied: packaging>=20.0 in /Users/sofymagar/Library/Python/3.9/lib/python/site-packages (from matplotlib) (24.2)\n",
      "Requirement already satisfied: pillow>=8 in /Users/sofymagar/Library/Python/3.9/lib/python/site-packages (from matplotlib) (11.1.0)\n",
      "Requirement already satisfied: pyparsing>=2.3.1 in /Users/sofymagar/Library/Python/3.9/lib/python/site-packages (from matplotlib) (3.2.1)\n",
      "Requirement already satisfied: python-dateutil>=2.7 in /Users/sofymagar/Library/Python/3.9/lib/python/site-packages (from matplotlib) (2.9.0.post0)\n",
      "Requirement already satisfied: importlib-resources>=3.2.0 in /Users/sofymagar/Library/Python/3.9/lib/python/site-packages (from matplotlib) (6.5.2)\n",
      "Requirement already satisfied: zipp>=3.1.0 in /Users/sofymagar/Library/Python/3.9/lib/python/site-packages (from importlib-resources>=3.2.0->matplotlib) (3.21.0)\n",
      "Requirement already satisfied: six>=1.5 in /Library/Developer/CommandLineTools/Library/Frameworks/Python3.framework/Versions/3.9/lib/python3.9/site-packages (from python-dateutil>=2.7->matplotlib) (1.15.0)\n"
     ]
    }
   ],
   "source": [
    "# Install necessary libraries\n",
    "!pip install prophet --quiet\n",
    "!pip install pandas\n",
    "!pip install matplotlib"
   ]
  },
  {
   "cell_type": "code",
   "execution_count": 33,
   "metadata": {},
   "outputs": [],
   "source": [
    "import pandas as pd\n",
    "from prophet import Prophet\n",
    "import matplotlib.pyplot as plt"
   ]
  },
  {
   "cell_type": "markdown",
   "metadata": {},
   "source": [
    "## Loading and Preparing the Dataset\n",
    "Load the dataset and perform necessary preprocessing."
   ]
  },
  {
   "cell_type": "code",
   "execution_count": 34,
   "metadata": {},
   "outputs": [],
   "source": [
    "# Load dataset\n",
    "df = pd.read_csv('dataset_pcs.csv')\n",
    "\n",
    "# Convert 'period' to datetime\n",
    "df['date'] = pd.to_datetime(df['date'])\n",
    "\n",
    "# Select only required columns\n",
    "df = df[['date', 'sku_id', 'qty_total', 'avg_discount_perc_by_goods', 'oos__by_goods', 'sin_month', 'cos_month']]"
   ]
  },
  {
   "cell_type": "markdown",
   "metadata": {},
   "source": []
  },
  {
   "cell_type": "code",
   "execution_count": 35,
   "metadata": {},
   "outputs": [
    {
     "name": "stderr",
     "output_type": "stream",
     "text": [
      "15:06:18 - cmdstanpy - INFO - Chain [1] start processing\n",
      "15:06:18 - cmdstanpy - INFO - Chain [1] done processing\n",
      "15:06:18 - cmdstanpy - INFO - Chain [1] start processing\n",
      "15:06:20 - cmdstanpy - INFO - Chain [1] done processing\n"
     ]
    }
   ],
   "source": [
    "# Prepare results container\n",
    "forecast_all = []\n",
    "\n",
    "# Loop through each unique SKU\n",
    "sku_list = df['sku_id'].unique()\n",
    "\n",
    "for sku in sku_list:\n",
    "    sku_df = df[df['sku_id'] == sku].copy()\n",
    "\n",
    "    # Skip SKUs with too little data\n",
    "    if len(sku_df) < 10:\n",
    "        continue\n",
    "\n",
    "    # Rename columns to match Prophet requirements\n",
    "    sku_df.rename(columns={'date': 'ds', 'qty_total': 'y'}, inplace=True)\n",
    "\n",
    "    # Drop rows with missing values in regressors\n",
    "    sku_df = sku_df.dropna(subset=[\n",
    "        'avg_discount_perc_by_goods',\n",
    "        'oos__by_goods',\n",
    "        'sin_month',\n",
    "        'cos_month'\n",
    "    ])\n",
    "\n",
    "    # Skip if less than 2 rows after cleaning\n",
    "    if len(sku_df) < 2:\n",
    "        continue\n",
    "\n",
    "    # Initialize Prophet with additional regressors\n",
    "    model = Prophet()\n",
    "    model.add_regressor('avg_discount_perc_by_goods')\n",
    "    model.add_regressor('oos__by_goods')\n",
    "    model.add_regressor('sin_month')\n",
    "    model.add_regressor('cos_month')\n",
    "\n",
    "    model.fit(sku_df)\n",
    "\n",
    "    # Create future dataframe for 28 days\n",
    "    future = model.make_future_dataframe(periods=28)\n",
    "\n",
    "    # Add future regressor values (using last known value)\n",
    "    for col in ['avg_discount_perc_by_goods', 'oos__by_goods', 'sin_month', 'cos_month']:\n",
    "        last_val = sku_df[col].iloc[-1]\n",
    "        future[col] = last_val  # repeat last known value\n",
    "\n",
    "    # Forecast\n",
    "    forecast = model.predict(future)\n",
    "\n",
    "    result = forecast[['ds', 'yhat', 'yhat_lower', 'yhat_upper']].tail(28).copy()\n",
    "    result.rename(columns={\n",
    "        'ds': 'date',\n",
    "        'yhat': 'forecast_qty_total',\n",
    "        'yhat_lower': 'forecast_qty_total_lower',\n",
    "        'yhat_upper': 'forecast_qty_total_upper'\n",
    "    }, inplace=True)\n",
    "\n",
    "    result['sku_id'] = sku\n",
    "\n",
    "    forecast_all.append(result)"
   ]
  },
  {
   "cell_type": "markdown",
   "metadata": {},
   "source": [
    "## Saving the Results\n",
    "Combine all forecasts and save to a CSV file."
   ]
  },
  {
   "cell_type": "code",
   "execution_count": 36,
   "metadata": {},
   "outputs": [
    {
     "data": {
      "text/html": [
       "<div>\n",
       "<style scoped>\n",
       "    .dataframe tbody tr th:only-of-type {\n",
       "        vertical-align: middle;\n",
       "    }\n",
       "\n",
       "    .dataframe tbody tr th {\n",
       "        vertical-align: top;\n",
       "    }\n",
       "\n",
       "    .dataframe thead th {\n",
       "        text-align: right;\n",
       "    }\n",
       "</style>\n",
       "<table border=\"1\" class=\"dataframe\">\n",
       "  <thead>\n",
       "    <tr style=\"text-align: right;\">\n",
       "      <th></th>\n",
       "      <th>date</th>\n",
       "      <th>forecast_qty_total</th>\n",
       "      <th>forecast_qty_total_lower</th>\n",
       "      <th>forecast_qty_total_upper</th>\n",
       "      <th>sku_id</th>\n",
       "    </tr>\n",
       "  </thead>\n",
       "  <tbody>\n",
       "    <tr>\n",
       "      <th>0</th>\n",
       "      <td>2023-01-11</td>\n",
       "      <td>197.780411</td>\n",
       "      <td>196.196466</td>\n",
       "      <td>199.316024</td>\n",
       "      <td>SKU001</td>\n",
       "    </tr>\n",
       "    <tr>\n",
       "      <th>1</th>\n",
       "      <td>2023-01-12</td>\n",
       "      <td>205.349526</td>\n",
       "      <td>200.352279</td>\n",
       "      <td>210.392698</td>\n",
       "      <td>SKU001</td>\n",
       "    </tr>\n",
       "    <tr>\n",
       "      <th>2</th>\n",
       "      <td>2023-01-13</td>\n",
       "      <td>212.918640</td>\n",
       "      <td>203.009139</td>\n",
       "      <td>222.864455</td>\n",
       "      <td>SKU001</td>\n",
       "    </tr>\n",
       "    <tr>\n",
       "      <th>3</th>\n",
       "      <td>2023-01-14</td>\n",
       "      <td>220.487754</td>\n",
       "      <td>205.367460</td>\n",
       "      <td>235.721319</td>\n",
       "      <td>SKU001</td>\n",
       "    </tr>\n",
       "    <tr>\n",
       "      <th>4</th>\n",
       "      <td>2023-01-15</td>\n",
       "      <td>228.056869</td>\n",
       "      <td>206.733312</td>\n",
       "      <td>249.044645</td>\n",
       "      <td>SKU001</td>\n",
       "    </tr>\n",
       "  </tbody>\n",
       "</table>\n",
       "</div>"
      ],
      "text/plain": [
       "        date  forecast_qty_total  forecast_qty_total_lower  \\\n",
       "0 2023-01-11          197.780411                196.196466   \n",
       "1 2023-01-12          205.349526                200.352279   \n",
       "2 2023-01-13          212.918640                203.009139   \n",
       "3 2023-01-14          220.487754                205.367460   \n",
       "4 2023-01-15          228.056869                206.733312   \n",
       "\n",
       "   forecast_qty_total_upper  sku_id  \n",
       "0                199.316024  SKU001  \n",
       "1                210.392698  SKU001  \n",
       "2                222.864455  SKU001  \n",
       "3                235.721319  SKU001  \n",
       "4                249.044645  SKU001  "
      ]
     },
     "execution_count": 36,
     "metadata": {},
     "output_type": "execute_result"
    }
   ],
   "source": [
    "# Combine all forecasts\n",
    "final_forecast_df = pd.concat(forecast_all, ignore_index=True)\n",
    "\n",
    "# Save to CSV\n",
    "final_forecast_df.to_csv('forecast.csv', index=False)\n",
    "\n",
    "# Show sample of result\n",
    "final_forecast_df.head()"
   ]
  }
 ],
 "metadata": {
  "kernelspec": {
   "display_name": "Python 3",
   "language": "python",
   "name": "python3"
  },
  "language_info": {
   "codemirror_mode": {
    "name": "ipython",
    "version": 3
   },
   "file_extension": ".py",
   "mimetype": "text/x-python",
   "name": "python",
   "nbconvert_exporter": "python",
   "pygments_lexer": "ipython3",
   "version": "3.9.6"
  }
 },
 "nbformat": 4,
 "nbformat_minor": 2
}
